{
 "cells": [
  {
   "cell_type": "markdown",
   "id": "e9b48896-0325-4b5e-b906-513b29070024",
   "metadata": {},
   "source": [
    "## Pandas Intro"
   ]
  },
  {
   "cell_type": "code",
   "execution_count": 7,
   "id": "f907423e-3a0c-4bf0-a998-5897eb4598bb",
   "metadata": {},
   "outputs": [],
   "source": [
    "import pandas as pd\n",
    "import numpy as np"
   ]
  },
  {
   "cell_type": "markdown",
   "id": "f38f499f-9a01-46ca-9c67-1b53e5714486",
   "metadata": {},
   "source": [
    "## working with series intro"
   ]
  },
  {
   "cell_type": "code",
   "execution_count": 9,
   "id": "6be254d7-e86e-46b8-bf93-d7efbbf505ca",
   "metadata": {},
   "outputs": [
    {
     "data": {
      "text/plain": [
       "'2.1.4'"
      ]
     },
     "execution_count": 9,
     "metadata": {},
     "output_type": "execute_result"
    }
   ],
   "source": [
    "pd.__version__"
   ]
  },
  {
   "cell_type": "code",
   "execution_count": 10,
   "id": "cf7fb676-7bf7-4922-acd8-debfbb188e5d",
   "metadata": {},
   "outputs": [
    {
     "data": {
      "text/plain": [
       "[1, 2, 3, 4]"
      ]
     },
     "execution_count": 10,
     "metadata": {},
     "output_type": "execute_result"
    }
   ],
   "source": [
    "lst=[1,2,3,4]\n",
    "lst"
   ]
  },
  {
   "cell_type": "code",
   "execution_count": 11,
   "id": "ef74a8cf-fb76-4073-aca5-32180bc966d0",
   "metadata": {},
   "outputs": [
    {
     "data": {
      "text/plain": [
       "0    1\n",
       "1    2\n",
       "2    3\n",
       "3    4\n",
       "dtype: int64"
      ]
     },
     "execution_count": 11,
     "metadata": {},
     "output_type": "execute_result"
    }
   ],
   "source": [
    "pd.Series(lst) # it is a 1-D datastructure"
   ]
  },
  {
   "cell_type": "code",
   "execution_count": 12,
   "id": "efc8b393-debb-4df3-8eaf-904d259aa96d",
   "metadata": {},
   "outputs": [
    {
     "data": {
      "text/plain": [
       "0    1\n",
       "1    2\n",
       "2    3\n",
       "3    4\n",
       "4    5\n",
       "dtype: int32"
      ]
     },
     "execution_count": 12,
     "metadata": {},
     "output_type": "execute_result"
    }
   ],
   "source": [
    "arr = np.array([1,2,3,4,5])\n",
    "pd.Series(arr)"
   ]
  },
  {
   "cell_type": "code",
   "execution_count": 13,
   "id": "8b0ccf2d-bd93-4463-8ced-db097f278f59",
   "metadata": {},
   "outputs": [
    {
     "data": {
      "text/plain": [
       "1      Retam\n",
       "2    Archita\n",
       "3     Piyali\n",
       "4     Ashish\n",
       "dtype: object"
      ]
     },
     "execution_count": 13,
     "metadata": {},
     "output_type": "execute_result"
    }
   ],
   "source": [
    "pd.Series(data=['Retam','Archita','Piyali','Ashish'],index=[1,2,3,4])"
   ]
  },
  {
   "cell_type": "code",
   "execution_count": 14,
   "id": "0be5143f-c52d-4a1a-a608-858830786eaa",
   "metadata": {},
   "outputs": [
    {
     "data": {
      "text/plain": [
       "day_1     4000\n",
       "day_2    12000\n",
       "day_3     3000\n",
       "day_4      700\n",
       "dtype: int64"
      ]
     },
     "execution_count": 14,
     "metadata": {},
     "output_type": "execute_result"
    }
   ],
   "source": [
    "steps={'day_1':4000,'day_2':12000,'day_3':3000,'day_4':700}\n",
    "pd.Series(steps)"
   ]
  },
  {
   "cell_type": "code",
   "execution_count": 15,
   "id": "6dd46fa0-ca67-4979-b098-c8ce8277d272",
   "metadata": {},
   "outputs": [
    {
     "data": {
      "text/plain": [
       "0    5\n",
       "1    5\n",
       "2    5\n",
       "dtype: int64"
      ]
     },
     "execution_count": 15,
     "metadata": {},
     "output_type": "execute_result"
    }
   ],
   "source": [
    "pd.Series(5).repeat(3).reset_index(drop=True)"
   ]
  },
  {
   "cell_type": "code",
   "execution_count": 16,
   "id": "edf419b6-e1d1-41e9-8510-f8fcd6c106f6",
   "metadata": {},
   "outputs": [
    {
     "data": {
      "text/plain": [
       "0    10\n",
       "1    10\n",
       "2    10\n",
       "3    20\n",
       "4    20\n",
       "dtype: int64"
      ]
     },
     "execution_count": 16,
     "metadata": {},
     "output_type": "execute_result"
    }
   ],
   "source": [
    "s = pd.Series([10,20,]).repeat([3,2]).reset_index(drop=True)\n",
    "s"
   ]
  },
  {
   "cell_type": "code",
   "execution_count": 17,
   "id": "fe60761d-6439-484c-bbc5-9fea9b3440d3",
   "metadata": {},
   "outputs": [
    {
     "data": {
      "text/plain": [
       "1    10\n",
       "2    10\n",
       "3    20\n",
       "dtype: int64"
      ]
     },
     "execution_count": 17,
     "metadata": {},
     "output_type": "execute_result"
    }
   ],
   "source": [
    "s[1:-1]"
   ]
  },
  {
   "cell_type": "markdown",
   "id": "2ea54a14-42dd-46ed-a0e3-93ec3f82bec3",
   "metadata": {},
   "source": [
    "## aggregrate function in pandas"
   ]
  },
  {
   "cell_type": "code",
   "execution_count": 19,
   "id": "272df3dd-6ee9-4029-aaf6-ed0584c46d54",
   "metadata": {},
   "outputs": [
    {
     "data": {
      "text/plain": [
       "min      1.0\n",
       "max      8.0\n",
       "sum     36.0\n",
       "mean     4.5\n",
       "dtype: float64"
      ]
     },
     "execution_count": 19,
     "metadata": {},
     "output_type": "execute_result"
    }
   ],
   "source": [
    "sr = pd.Series([1,2,3,4,5,6,7,8])\n",
    "sr.agg(['min','max','sum','mean'])"
   ]
  },
  {
   "cell_type": "markdown",
   "id": "2840351e-acf1-4735-97c8-83d7cc253850",
   "metadata": {},
   "source": [
    "## series absolute function"
   ]
  },
  {
   "cell_type": "code",
   "execution_count": 21,
   "id": "0d811af7-23de-4c98-9462-359dfdba7af6",
   "metadata": {},
   "outputs": [
    {
     "data": {
      "text/plain": [
       "1    1\n",
       "2    3\n",
       "3    2\n",
       "4    4\n",
       "5    5\n",
       "6    6\n",
       "7    3\n",
       "dtype: int64"
      ]
     },
     "execution_count": 21,
     "metadata": {},
     "output_type": "execute_result"
    }
   ],
   "source": [
    "sr1 = pd.Series([1,-3,2,-4,5,6,-3],index=[1,2,3,4,5,6,7])\n",
    "sr1.abs()"
   ]
  },
  {
   "cell_type": "markdown",
   "id": "5911732b-1592-477f-a14e-f50e9ff39daa",
   "metadata": {},
   "source": [
    "## appending two series"
   ]
  },
  {
   "cell_type": "code",
   "execution_count": 23,
   "id": "903a9ac7-08e8-4dfc-a439-5c4201796d53",
   "metadata": {},
   "outputs": [],
   "source": [
    "# using the append function not working \n",
    "# it has been removed from the pandas 2.0 version \n",
    "# use _append or concat(with pd)"
   ]
  },
  {
   "cell_type": "code",
   "execution_count": 24,
   "id": "d00b7b87-b768-474d-a6ef-844c5278ba89",
   "metadata": {},
   "outputs": [
    {
     "data": {
      "text/plain": [
       "(0    1\n",
       " 1    2\n",
       " 2    3\n",
       " 3    4\n",
       " 4    5\n",
       " 5    6\n",
       " 6    7\n",
       " 7    8\n",
       " dtype: int64,\n",
       " 1    1\n",
       " 2   -3\n",
       " 3    2\n",
       " 4   -4\n",
       " 5    5\n",
       " 6    6\n",
       " 7   -3\n",
       " dtype: int64)"
      ]
     },
     "execution_count": 24,
     "metadata": {},
     "output_type": "execute_result"
    }
   ],
   "source": [
    "sr,sr1"
   ]
  },
  {
   "cell_type": "code",
   "execution_count": 25,
   "id": "a169f784-5f35-4288-8889-4f81593f0efe",
   "metadata": {},
   "outputs": [
    {
     "data": {
      "text/plain": [
       "0     1\n",
       "1     2\n",
       "2     3\n",
       "3     4\n",
       "4     5\n",
       "5     6\n",
       "6     7\n",
       "7     8\n",
       "8     1\n",
       "9    -3\n",
       "10    2\n",
       "11   -4\n",
       "12    5\n",
       "13    6\n",
       "14   -3\n",
       "dtype: int64"
      ]
     },
     "execution_count": 25,
     "metadata": {},
     "output_type": "execute_result"
    }
   ],
   "source": [
    "# with the help of the append function we can do \n",
    "pd.concat([sr,sr1]).reset_index(drop=True)"
   ]
  },
  {
   "cell_type": "markdown",
   "id": "699d9983-582e-4c2a-9e54-0ce27cc809a3",
   "metadata": {},
   "source": [
    "## astype function of pandas series"
   ]
  },
  {
   "cell_type": "code",
   "execution_count": 27,
   "id": "4a5addd9-caa8-472d-bcbe-4c1cfc72dbe8",
   "metadata": {},
   "outputs": [
    {
     "data": {
      "text/plain": [
       "1    1\n",
       "2   -3\n",
       "3    2\n",
       "4   -4\n",
       "5    5\n",
       "6    6\n",
       "7   -3\n",
       "dtype: int64"
      ]
     },
     "execution_count": 27,
     "metadata": {},
     "output_type": "execute_result"
    }
   ],
   "source": [
    "sr1"
   ]
  },
  {
   "cell_type": "code",
   "execution_count": 28,
   "id": "0bf453b6-42d0-4a85-ba80-13a2ba6c650c",
   "metadata": {},
   "outputs": [
    {
     "data": {
      "text/plain": [
       "pandas.core.series.Series"
      ]
     },
     "execution_count": 28,
     "metadata": {},
     "output_type": "execute_result"
    }
   ],
   "source": [
    "type(sr1)"
   ]
  },
  {
   "cell_type": "code",
   "execution_count": 29,
   "id": "0ea98420-8327-4023-8527-8cd7c185d51d",
   "metadata": {},
   "outputs": [
    {
     "data": {
      "text/plain": [
       "numpy.int64"
      ]
     },
     "execution_count": 29,
     "metadata": {},
     "output_type": "execute_result"
    }
   ],
   "source": [
    "type(sr1[1])"
   ]
  },
  {
   "cell_type": "code",
   "execution_count": 30,
   "id": "dcf3f8bf-527a-4279-bcfc-b248666d3633",
   "metadata": {},
   "outputs": [
    {
     "data": {
      "text/plain": [
       "1    1.0\n",
       "2   -3.0\n",
       "3    2.0\n",
       "4   -4.0\n",
       "5    5.0\n",
       "6    6.0\n",
       "7   -3.0\n",
       "dtype: float64"
      ]
     },
     "execution_count": 30,
     "metadata": {},
     "output_type": "execute_result"
    }
   ],
   "source": [
    "sr1.astype('float')"
   ]
  },
  {
   "cell_type": "markdown",
   "id": "73c304c8-e0b2-47fe-a078-5a8aa0a60487",
   "metadata": {},
   "source": [
    "## Between function "
   ]
  },
  {
   "cell_type": "code",
   "execution_count": 32,
   "id": "49b3e8a2-0fe7-422c-b20a-61df28bd6ec7",
   "metadata": {},
   "outputs": [],
   "source": [
    "sr2 = pd.Series([x for x in range(1,11)])"
   ]
  },
  {
   "cell_type": "code",
   "execution_count": 33,
   "id": "95a0b68c-a5d0-415d-8c75-d49fe63c5711",
   "metadata": {},
   "outputs": [
    {
     "data": {
      "text/plain": [
       "0     1\n",
       "1     2\n",
       "2     3\n",
       "3     4\n",
       "4     5\n",
       "5     6\n",
       "6     7\n",
       "7     8\n",
       "8     9\n",
       "9    10\n",
       "dtype: int64"
      ]
     },
     "execution_count": 33,
     "metadata": {},
     "output_type": "execute_result"
    }
   ],
   "source": [
    "sr2"
   ]
  },
  {
   "cell_type": "code",
   "execution_count": 58,
   "id": "7ef08b85-3f09-4ef9-ac38-e594e31325a2",
   "metadata": {},
   "outputs": [
    {
     "data": {
      "text/plain": [
       "0    False\n",
       "1    False\n",
       "2    False\n",
       "3    False\n",
       "4     True\n",
       "5     True\n",
       "6     True\n",
       "7    False\n",
       "8    False\n",
       "9    False\n",
       "dtype: bool"
      ]
     },
     "execution_count": 58,
     "metadata": {},
     "output_type": "execute_result"
    }
   ],
   "source": [
    "# checks for values which are between the left and right args\n",
    "sr2.between(5,7)"
   ]
  },
  {
   "cell_type": "markdown",
   "id": "75277c65-b2b2-4605-b898-7af4bf32854d",
   "metadata": {},
   "source": [
    "## the string functions in pandas"
   ]
  },
  {
   "cell_type": "code",
   "execution_count": 66,
   "id": "1d462adc-e669-4442-bf33-9f7e1989a585",
   "metadata": {},
   "outputs": [
    {
     "data": {
      "text/plain": [
       "0                         Retam\n",
       "1             Machine learning \n",
       "2                deep learning \n",
       "3      Arificial Neural Network\n",
       "dtype: object"
      ]
     },
     "execution_count": 66,
     "metadata": {},
     "output_type": "execute_result"
    }
   ],
   "source": [
    "str_sr= pd.Series([' Retam',' Machine learning ',' deep learning ','  Arificial Neural Network'])\n",
    "str_sr"
   ]
  },
  {
   "cell_type": "code",
   "execution_count": 68,
   "id": "b69d89d7-0004-4c84-9b0b-5de0a7208448",
   "metadata": {},
   "outputs": [
    {
     "data": {
      "text/plain": [
       "0                         RETAM\n",
       "1             MACHINE LEARNING \n",
       "2                DEEP LEARNING \n",
       "3      ARIFICIAL NEURAL NETWORK\n",
       "dtype: object"
      ]
     },
     "execution_count": 68,
     "metadata": {},
     "output_type": "execute_result"
    }
   ],
   "source": [
    "str_sr.str.upper()"
   ]
  },
  {
   "cell_type": "code",
   "execution_count": 72,
   "id": "917e41c4-9fa8-41d9-923f-8dab37f4a688",
   "metadata": {},
   "outputs": [
    {
     "data": {
      "text/plain": [
       "0                       Retam\n",
       "1            Machine learning\n",
       "2               deep learning\n",
       "3    Arificial Neural Network\n",
       "dtype: object"
      ]
     },
     "execution_count": 72,
     "metadata": {},
     "output_type": "execute_result"
    }
   ],
   "source": [
    "str_sr.str.strip()"
   ]
  },
  {
   "cell_type": "code",
   "execution_count": 80,
   "id": "b6d1a895-af4e-41da-82e9-cd71e34f0599",
   "metadata": {},
   "outputs": [],
   "source": [
    "sr = str_sr.str.split()[2]"
   ]
  },
  {
   "cell_type": "code",
   "execution_count": 82,
   "id": "778fed1d-7bd4-4005-874a-018504378a17",
   "metadata": {},
   "outputs": [
    {
     "data": {
      "text/plain": [
       "['deep', 'learning']"
      ]
     },
     "execution_count": 82,
     "metadata": {},
     "output_type": "execute_result"
    }
   ],
   "source": [
    "sr"
   ]
  },
  {
   "cell_type": "code",
   "execution_count": 86,
   "id": "46d869a9-fbce-4ea7-8eac-cce01438b2e0",
   "metadata": {},
   "outputs": [
    {
     "data": {
      "text/plain": [
       "0    False\n",
       "1     True\n",
       "2     True\n",
       "3    False\n",
       "dtype: bool"
      ]
     },
     "execution_count": 86,
     "metadata": {},
     "output_type": "execute_result"
    }
   ],
   "source": [
    "str_sr.str.contains('lea')"
   ]
  },
  {
   "cell_type": "code",
   "execution_count": null,
   "id": "abaa437a-7d38-48ab-98d9-6e90c92a5e6f",
   "metadata": {},
   "outputs": [],
   "source": []
  }
 ],
 "metadata": {
  "kernelspec": {
   "display_name": "Python 3 (ipykernel)",
   "language": "python",
   "name": "python3"
  },
  "language_info": {
   "codemirror_mode": {
    "name": "ipython",
    "version": 3
   },
   "file_extension": ".py",
   "mimetype": "text/x-python",
   "name": "python",
   "nbconvert_exporter": "python",
   "pygments_lexer": "ipython3",
   "version": "3.11.7"
  }
 },
 "nbformat": 4,
 "nbformat_minor": 5
}
