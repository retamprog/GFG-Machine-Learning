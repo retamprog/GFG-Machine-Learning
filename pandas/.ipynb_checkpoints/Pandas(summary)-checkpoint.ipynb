{
 "cells": [
  {
   "cell_type": "markdown",
   "id": "e9b48896-0325-4b5e-b906-513b29070024",
   "metadata": {},
   "source": [
    "## Pandas Intro"
   ]
  },
  {
   "cell_type": "code",
   "execution_count": 11,
   "id": "f907423e-3a0c-4bf0-a998-5897eb4598bb",
   "metadata": {},
   "outputs": [],
   "source": [
    "import pandas as pd\n",
    "import numpy as np"
   ]
  },
  {
   "cell_type": "markdown",
   "id": "f38f499f-9a01-46ca-9c67-1b53e5714486",
   "metadata": {},
   "source": [
    "## working with series intro"
   ]
  },
  {
   "cell_type": "code",
   "execution_count": 5,
   "id": "6be254d7-e86e-46b8-bf93-d7efbbf505ca",
   "metadata": {},
   "outputs": [
    {
     "data": {
      "text/plain": [
       "'2.1.4'"
      ]
     },
     "execution_count": 5,
     "metadata": {},
     "output_type": "execute_result"
    }
   ],
   "source": [
    "pd.__version__"
   ]
  },
  {
   "cell_type": "code",
   "execution_count": 13,
   "id": "cf7fb676-7bf7-4922-acd8-debfbb188e5d",
   "metadata": {},
   "outputs": [
    {
     "data": {
      "text/plain": [
       "[1, 2, 3, 4]"
      ]
     },
     "execution_count": 13,
     "metadata": {},
     "output_type": "execute_result"
    }
   ],
   "source": [
    "lst=[1,2,3,4]\n",
    "lst"
   ]
  },
  {
   "cell_type": "code",
   "execution_count": 15,
   "id": "ef74a8cf-fb76-4073-aca5-32180bc966d0",
   "metadata": {},
   "outputs": [
    {
     "data": {
      "text/plain": [
       "0    1\n",
       "1    2\n",
       "2    3\n",
       "3    4\n",
       "dtype: int64"
      ]
     },
     "execution_count": 15,
     "metadata": {},
     "output_type": "execute_result"
    }
   ],
   "source": [
    "pd.Series(lst) # it is a 1-D datastructure"
   ]
  },
  {
   "cell_type": "code",
   "execution_count": 17,
   "id": "efc8b393-debb-4df3-8eaf-904d259aa96d",
   "metadata": {},
   "outputs": [
    {
     "data": {
      "text/plain": [
       "0    1\n",
       "1    2\n",
       "2    3\n",
       "3    4\n",
       "4    5\n",
       "dtype: int32"
      ]
     },
     "execution_count": 17,
     "metadata": {},
     "output_type": "execute_result"
    }
   ],
   "source": [
    "arr = np.array([1,2,3,4,5])\n",
    "pd.Series(arr)"
   ]
  },
  {
   "cell_type": "code",
   "execution_count": 19,
   "id": "8b0ccf2d-bd93-4463-8ced-db097f278f59",
   "metadata": {},
   "outputs": [
    {
     "data": {
      "text/plain": [
       "1      Retam\n",
       "2    Archita\n",
       "3     Piyali\n",
       "4     Ashish\n",
       "dtype: object"
      ]
     },
     "execution_count": 19,
     "metadata": {},
     "output_type": "execute_result"
    }
   ],
   "source": [
    "pd.Series(data=['Retam','Archita','Piyali','Ashish'],index=[1,2,3,4])"
   ]
  },
  {
   "cell_type": "code",
   "execution_count": 21,
   "id": "0be5143f-c52d-4a1a-a608-858830786eaa",
   "metadata": {},
   "outputs": [
    {
     "data": {
      "text/plain": [
       "day_1     4000\n",
       "day_2    12000\n",
       "day_3     3000\n",
       "day_4      700\n",
       "dtype: int64"
      ]
     },
     "execution_count": 21,
     "metadata": {},
     "output_type": "execute_result"
    }
   ],
   "source": [
    "steps={'day_1':4000,'day_2':12000,'day_3':3000,'day_4':700}\n",
    "pd.Series(steps)"
   ]
  },
  {
   "cell_type": "code",
   "execution_count": 31,
   "id": "6dd46fa0-ca67-4979-b098-c8ce8277d272",
   "metadata": {},
   "outputs": [
    {
     "data": {
      "text/plain": [
       "0    5\n",
       "1    5\n",
       "2    5\n",
       "dtype: int64"
      ]
     },
     "execution_count": 31,
     "metadata": {},
     "output_type": "execute_result"
    }
   ],
   "source": [
    "pd.Series(5).repeat(3).reset_index(drop=True)"
   ]
  },
  {
   "cell_type": "code",
   "execution_count": 39,
   "id": "edf419b6-e1d1-41e9-8510-f8fcd6c106f6",
   "metadata": {},
   "outputs": [
    {
     "data": {
      "text/plain": [
       "0    10\n",
       "1    10\n",
       "2    10\n",
       "3    20\n",
       "4    20\n",
       "dtype: int64"
      ]
     },
     "execution_count": 39,
     "metadata": {},
     "output_type": "execute_result"
    }
   ],
   "source": [
    "s = pd.Series([10,20,]).repeat([3,2]).reset_index(drop=True)\n",
    "s"
   ]
  },
  {
   "cell_type": "code",
   "execution_count": 41,
   "id": "fe60761d-6439-484c-bbc5-9fea9b3440d3",
   "metadata": {},
   "outputs": [
    {
     "data": {
      "text/plain": [
       "1    10\n",
       "2    10\n",
       "3    20\n",
       "dtype: int64"
      ]
     },
     "execution_count": 41,
     "metadata": {},
     "output_type": "execute_result"
    }
   ],
   "source": [
    "s[1:-1]"
   ]
  },
  {
   "cell_type": "markdown",
   "id": "2ea54a14-42dd-46ed-a0e3-93ec3f82bec3",
   "metadata": {},
   "source": [
    "## aggregrate function in pandas"
   ]
  },
  {
   "cell_type": "code",
   "execution_count": 50,
   "id": "272df3dd-6ee9-4029-aaf6-ed0584c46d54",
   "metadata": {},
   "outputs": [
    {
     "data": {
      "text/plain": [
       "min      1.0\n",
       "max      8.0\n",
       "sum     36.0\n",
       "mean     4.5\n",
       "dtype: float64"
      ]
     },
     "execution_count": 50,
     "metadata": {},
     "output_type": "execute_result"
    }
   ],
   "source": [
    "sr = pd.Series([1,2,3,4,5,6,7,8])\n",
    "sr.agg(['min','max','sum','mean'])"
   ]
  },
  {
   "cell_type": "markdown",
   "id": "e31d68d8-f429-42ce-ad12-418c9023b1df",
   "metadata": {},
   "source": [
    "## series absolute function"
   ]
  },
  {
   "cell_type": "code",
   "execution_count": 60,
   "id": "0d811af7-23de-4c98-9462-359dfdba7af6",
   "metadata": {},
   "outputs": [
    {
     "data": {
      "text/plain": [
       "1    1\n",
       "2    3\n",
       "3    2\n",
       "4    4\n",
       "5    5\n",
       "6    6\n",
       "7    3\n",
       "dtype: int64"
      ]
     },
     "execution_count": 60,
     "metadata": {},
     "output_type": "execute_result"
    }
   ],
   "source": [
    "sr1 = pd.Series([1,-3,2,-4,5,6,-3],index=[1,2,3,4,5,6,7])\n",
    "sr1.abs()"
   ]
  },
  {
   "cell_type": "code",
   "execution_count": null,
   "id": "226312a9-6628-41c8-bc60-ab43ac5a89af",
   "metadata": {},
   "outputs": [],
   "source": []
  },
  {
   "cell_type": "markdown",
   "id": "5911732b-1592-477f-a14e-f50e9ff39daa",
   "metadata": {},
   "source": [
    "## appending two series"
   ]
  },
  {
   "cell_type": "code",
   "execution_count": null,
   "id": "d00b7b87-b768-474d-a6ef-844c5278ba89",
   "metadata": {},
   "outputs": [],
   "source": []
  }
 ],
 "metadata": {
  "kernelspec": {
   "display_name": "Python 3 (ipykernel)",
   "language": "python",
   "name": "python3"
  },
  "language_info": {
   "codemirror_mode": {
    "name": "ipython",
    "version": 3
   },
   "file_extension": ".py",
   "mimetype": "text/x-python",
   "name": "python",
   "nbconvert_exporter": "python",
   "pygments_lexer": "ipython3",
   "version": "3.11.7"
  }
 },
 "nbformat": 4,
 "nbformat_minor": 5
}
