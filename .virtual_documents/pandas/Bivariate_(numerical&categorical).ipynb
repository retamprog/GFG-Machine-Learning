# we are going to do bivariate analysis in which one variable will be categorical and the 
# other will be numerical


import pandas as pd
import seaborn as sns


df = sns.load_dataset('titanic')
df


#age(numerical) - class(categorical)


sns.barplot(x='class',y='age',data=df)


sns.barplot(x='class',y='fare',data=df,estimator='sum')


sns.barplot(x='class',y='age',data=df,hue='sex')


sns.barplot(x='class',y='fare',data=df,hue='sex',estimator='sum')


# in the first class we are getting more fare from the females in the first class


sns.boxplot(x='class',y='age',data=df)


sns.boxplot(x='class',y='age',data=df,hue='survived')


sns.violinplot(x='class',y='age',data=df)



