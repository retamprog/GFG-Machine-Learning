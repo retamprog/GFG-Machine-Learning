{
 "cells": [
  {
   "cell_type": "code",
   "execution_count": 1,
   "id": "9df6edd5-ff6e-484c-9b58-675b2f9fe344",
   "metadata": {},
   "outputs": [],
   "source": [
    "import pandas as pd\n",
    "import numpy as np"
   ]
  },
  {
   "cell_type": "code",
   "execution_count": 2,
   "id": "02d109c1-25f9-4c66-a438-bf328c469b32",
   "metadata": {},
   "outputs": [],
   "source": [
    "df=pd.read_csv('csv_files\\googleplaystore.csv').dropna()"
   ]
  },
  {
   "cell_type": "code",
   "execution_count": 3,
   "id": "2e628272-c1f8-4cef-8075-6aa5cd9b678c",
   "metadata": {},
   "outputs": [
    {
     "data": {
      "text/html": [
       "<div>\n",
       "<style scoped>\n",
       "    .dataframe tbody tr th:only-of-type {\n",
       "        vertical-align: middle;\n",
       "    }\n",
       "\n",
       "    .dataframe tbody tr th {\n",
       "        vertical-align: top;\n",
       "    }\n",
       "\n",
       "    .dataframe thead th {\n",
       "        text-align: right;\n",
       "    }\n",
       "</style>\n",
       "<table border=\"1\" class=\"dataframe\">\n",
       "  <thead>\n",
       "    <tr style=\"text-align: right;\">\n",
       "      <th></th>\n",
       "      <th>App</th>\n",
       "      <th>Category</th>\n",
       "      <th>Rating</th>\n",
       "      <th>Reviews</th>\n",
       "      <th>Size</th>\n",
       "      <th>Installs</th>\n",
       "      <th>Type</th>\n",
       "      <th>Price</th>\n",
       "      <th>Content Rating</th>\n",
       "      <th>Genres</th>\n",
       "      <th>Last Updated</th>\n",
       "      <th>Current Ver</th>\n",
       "      <th>Android Ver</th>\n",
       "    </tr>\n",
       "  </thead>\n",
       "  <tbody>\n",
       "    <tr>\n",
       "      <th>0</th>\n",
       "      <td>Photo Editor &amp; Candy Camera &amp; Grid &amp; ScrapBook</td>\n",
       "      <td>ART_AND_DESIGN</td>\n",
       "      <td>4.1</td>\n",
       "      <td>159</td>\n",
       "      <td>19M</td>\n",
       "      <td>10,000+</td>\n",
       "      <td>Free</td>\n",
       "      <td>0</td>\n",
       "      <td>Everyone</td>\n",
       "      <td>Art &amp; Design</td>\n",
       "      <td>January 7, 2018</td>\n",
       "      <td>1.0.0</td>\n",
       "      <td>4.0.3 and up</td>\n",
       "    </tr>\n",
       "    <tr>\n",
       "      <th>1</th>\n",
       "      <td>Coloring book moana</td>\n",
       "      <td>ART_AND_DESIGN</td>\n",
       "      <td>3.9</td>\n",
       "      <td>967</td>\n",
       "      <td>14M</td>\n",
       "      <td>500,000+</td>\n",
       "      <td>Free</td>\n",
       "      <td>0</td>\n",
       "      <td>Everyone</td>\n",
       "      <td>Art &amp; Design;Pretend Play</td>\n",
       "      <td>January 15, 2018</td>\n",
       "      <td>2.0.0</td>\n",
       "      <td>4.0.3 and up</td>\n",
       "    </tr>\n",
       "    <tr>\n",
       "      <th>2</th>\n",
       "      <td>U Launcher Lite – FREE Live Cool Themes, Hide ...</td>\n",
       "      <td>ART_AND_DESIGN</td>\n",
       "      <td>4.7</td>\n",
       "      <td>87510</td>\n",
       "      <td>8.7M</td>\n",
       "      <td>5,000,000+</td>\n",
       "      <td>Free</td>\n",
       "      <td>0</td>\n",
       "      <td>Everyone</td>\n",
       "      <td>Art &amp; Design</td>\n",
       "      <td>August 1, 2018</td>\n",
       "      <td>1.2.4</td>\n",
       "      <td>4.0.3 and up</td>\n",
       "    </tr>\n",
       "    <tr>\n",
       "      <th>3</th>\n",
       "      <td>Sketch - Draw &amp; Paint</td>\n",
       "      <td>ART_AND_DESIGN</td>\n",
       "      <td>4.5</td>\n",
       "      <td>215644</td>\n",
       "      <td>25M</td>\n",
       "      <td>50,000,000+</td>\n",
       "      <td>Free</td>\n",
       "      <td>0</td>\n",
       "      <td>Teen</td>\n",
       "      <td>Art &amp; Design</td>\n",
       "      <td>June 8, 2018</td>\n",
       "      <td>Varies with device</td>\n",
       "      <td>4.2 and up</td>\n",
       "    </tr>\n",
       "    <tr>\n",
       "      <th>4</th>\n",
       "      <td>Pixel Draw - Number Art Coloring Book</td>\n",
       "      <td>ART_AND_DESIGN</td>\n",
       "      <td>4.3</td>\n",
       "      <td>967</td>\n",
       "      <td>2.8M</td>\n",
       "      <td>100,000+</td>\n",
       "      <td>Free</td>\n",
       "      <td>0</td>\n",
       "      <td>Everyone</td>\n",
       "      <td>Art &amp; Design;Creativity</td>\n",
       "      <td>June 20, 2018</td>\n",
       "      <td>1.1</td>\n",
       "      <td>4.4 and up</td>\n",
       "    </tr>\n",
       "    <tr>\n",
       "      <th>...</th>\n",
       "      <td>...</td>\n",
       "      <td>...</td>\n",
       "      <td>...</td>\n",
       "      <td>...</td>\n",
       "      <td>...</td>\n",
       "      <td>...</td>\n",
       "      <td>...</td>\n",
       "      <td>...</td>\n",
       "      <td>...</td>\n",
       "      <td>...</td>\n",
       "      <td>...</td>\n",
       "      <td>...</td>\n",
       "      <td>...</td>\n",
       "    </tr>\n",
       "    <tr>\n",
       "      <th>10834</th>\n",
       "      <td>FR Calculator</td>\n",
       "      <td>FAMILY</td>\n",
       "      <td>4.0</td>\n",
       "      <td>7</td>\n",
       "      <td>2.6M</td>\n",
       "      <td>500+</td>\n",
       "      <td>Free</td>\n",
       "      <td>0</td>\n",
       "      <td>Everyone</td>\n",
       "      <td>Education</td>\n",
       "      <td>June 18, 2017</td>\n",
       "      <td>1.0.0</td>\n",
       "      <td>4.1 and up</td>\n",
       "    </tr>\n",
       "    <tr>\n",
       "      <th>10836</th>\n",
       "      <td>Sya9a Maroc - FR</td>\n",
       "      <td>FAMILY</td>\n",
       "      <td>4.5</td>\n",
       "      <td>38</td>\n",
       "      <td>53M</td>\n",
       "      <td>5,000+</td>\n",
       "      <td>Free</td>\n",
       "      <td>0</td>\n",
       "      <td>Everyone</td>\n",
       "      <td>Education</td>\n",
       "      <td>July 25, 2017</td>\n",
       "      <td>1.48</td>\n",
       "      <td>4.1 and up</td>\n",
       "    </tr>\n",
       "    <tr>\n",
       "      <th>10837</th>\n",
       "      <td>Fr. Mike Schmitz Audio Teachings</td>\n",
       "      <td>FAMILY</td>\n",
       "      <td>5.0</td>\n",
       "      <td>4</td>\n",
       "      <td>3.6M</td>\n",
       "      <td>100+</td>\n",
       "      <td>Free</td>\n",
       "      <td>0</td>\n",
       "      <td>Everyone</td>\n",
       "      <td>Education</td>\n",
       "      <td>July 6, 2018</td>\n",
       "      <td>1</td>\n",
       "      <td>4.1 and up</td>\n",
       "    </tr>\n",
       "    <tr>\n",
       "      <th>10839</th>\n",
       "      <td>The SCP Foundation DB fr nn5n</td>\n",
       "      <td>BOOKS_AND_REFERENCE</td>\n",
       "      <td>4.5</td>\n",
       "      <td>114</td>\n",
       "      <td>Varies with device</td>\n",
       "      <td>1,000+</td>\n",
       "      <td>Free</td>\n",
       "      <td>0</td>\n",
       "      <td>Mature 17+</td>\n",
       "      <td>Books &amp; Reference</td>\n",
       "      <td>January 19, 2015</td>\n",
       "      <td>Varies with device</td>\n",
       "      <td>Varies with device</td>\n",
       "    </tr>\n",
       "    <tr>\n",
       "      <th>10840</th>\n",
       "      <td>iHoroscope - 2018 Daily Horoscope &amp; Astrology</td>\n",
       "      <td>LIFESTYLE</td>\n",
       "      <td>4.5</td>\n",
       "      <td>398307</td>\n",
       "      <td>19M</td>\n",
       "      <td>10,000,000+</td>\n",
       "      <td>Free</td>\n",
       "      <td>0</td>\n",
       "      <td>Everyone</td>\n",
       "      <td>Lifestyle</td>\n",
       "      <td>July 25, 2018</td>\n",
       "      <td>Varies with device</td>\n",
       "      <td>Varies with device</td>\n",
       "    </tr>\n",
       "  </tbody>\n",
       "</table>\n",
       "<p>9361 rows × 13 columns</p>\n",
       "</div>"
      ],
      "text/plain": [
       "                                                     App             Category  \\\n",
       "0         Photo Editor & Candy Camera & Grid & ScrapBook       ART_AND_DESIGN   \n",
       "1                                    Coloring book moana       ART_AND_DESIGN   \n",
       "2      U Launcher Lite – FREE Live Cool Themes, Hide ...       ART_AND_DESIGN   \n",
       "3                                  Sketch - Draw & Paint       ART_AND_DESIGN   \n",
       "4                  Pixel Draw - Number Art Coloring Book       ART_AND_DESIGN   \n",
       "...                                                  ...                  ...   \n",
       "10834                                      FR Calculator               FAMILY   \n",
       "10836                                   Sya9a Maroc - FR               FAMILY   \n",
       "10837                   Fr. Mike Schmitz Audio Teachings               FAMILY   \n",
       "10839                      The SCP Foundation DB fr nn5n  BOOKS_AND_REFERENCE   \n",
       "10840      iHoroscope - 2018 Daily Horoscope & Astrology            LIFESTYLE   \n",
       "\n",
       "       Rating  Reviews                Size     Installs  Type Price  \\\n",
       "0         4.1      159                 19M      10,000+  Free     0   \n",
       "1         3.9      967                 14M     500,000+  Free     0   \n",
       "2         4.7    87510                8.7M   5,000,000+  Free     0   \n",
       "3         4.5   215644                 25M  50,000,000+  Free     0   \n",
       "4         4.3      967                2.8M     100,000+  Free     0   \n",
       "...       ...      ...                 ...          ...   ...   ...   \n",
       "10834     4.0        7                2.6M         500+  Free     0   \n",
       "10836     4.5       38                 53M       5,000+  Free     0   \n",
       "10837     5.0        4                3.6M         100+  Free     0   \n",
       "10839     4.5      114  Varies with device       1,000+  Free     0   \n",
       "10840     4.5   398307                 19M  10,000,000+  Free     0   \n",
       "\n",
       "      Content Rating                     Genres      Last Updated  \\\n",
       "0           Everyone               Art & Design   January 7, 2018   \n",
       "1           Everyone  Art & Design;Pretend Play  January 15, 2018   \n",
       "2           Everyone               Art & Design    August 1, 2018   \n",
       "3               Teen               Art & Design      June 8, 2018   \n",
       "4           Everyone    Art & Design;Creativity     June 20, 2018   \n",
       "...              ...                        ...               ...   \n",
       "10834       Everyone                  Education     June 18, 2017   \n",
       "10836       Everyone                  Education     July 25, 2017   \n",
       "10837       Everyone                  Education      July 6, 2018   \n",
       "10839     Mature 17+          Books & Reference  January 19, 2015   \n",
       "10840       Everyone                  Lifestyle     July 25, 2018   \n",
       "\n",
       "              Current Ver         Android Ver  \n",
       "0                   1.0.0        4.0.3 and up  \n",
       "1                   2.0.0        4.0.3 and up  \n",
       "2                   1.2.4        4.0.3 and up  \n",
       "3      Varies with device          4.2 and up  \n",
       "4                     1.1          4.4 and up  \n",
       "...                   ...                 ...  \n",
       "10834               1.0.0          4.1 and up  \n",
       "10836                1.48          4.1 and up  \n",
       "10837                   1          4.1 and up  \n",
       "10839  Varies with device  Varies with device  \n",
       "10840  Varies with device  Varies with device  \n",
       "\n",
       "[9361 rows x 13 columns]"
      ]
     },
     "execution_count": 3,
     "metadata": {},
     "output_type": "execute_result"
    }
   ],
   "source": [
    "df"
   ]
  },
  {
   "cell_type": "code",
   "execution_count": 9,
   "id": "2986c417-4465-4472-8e71-8da10a47a6cb",
   "metadata": {},
   "outputs": [
    {
     "name": "stdout",
     "output_type": "stream",
     "text": [
      "ART_AND_DESIGN\n",
      "AUTO_AND_VEHICLES\n",
      "BEAUTY\n",
      "BOOKS_AND_REFERENCE\n",
      "BUSINESS\n",
      "COMICS\n",
      "COMMUNICATION\n",
      "DATING\n",
      "EDUCATION\n",
      "ENTERTAINMENT\n",
      "EVENTS\n",
      "FINANCE\n",
      "FOOD_AND_DRINK\n",
      "HEALTH_AND_FITNESS\n",
      "HOUSE_AND_HOME\n",
      "LIBRARIES_AND_DEMO\n",
      "LIFESTYLE\n",
      "GAME\n",
      "FAMILY\n",
      "MEDICAL\n",
      "SOCIAL\n",
      "SHOPPING\n",
      "PHOTOGRAPHY\n",
      "SPORTS\n",
      "TRAVEL_AND_LOCAL\n",
      "TOOLS\n",
      "PERSONALIZATION\n",
      "PRODUCTIVITY\n",
      "PARENTING\n",
      "WEATHER\n",
      "VIDEO_PLAYERS\n",
      "NEWS_AND_MAGAZINES\n",
      "MAPS_AND_NAVIGATION\n"
     ]
    }
   ],
   "source": [
    "for i in df['Category'].unique():\n",
    "    print(i)\n",
    "    # gives all the unique categories in the series"
   ]
  },
  {
   "cell_type": "code",
   "execution_count": 12,
   "id": "571b57a5-4a45-483e-8aaf-679b400928a9",
   "metadata": {},
   "outputs": [
    {
     "data": {
      "text/plain": [
       "33"
      ]
     },
     "execution_count": 12,
     "metadata": {},
     "output_type": "execute_result"
    }
   ],
   "source": [
    "len(df['Category'].unique())"
   ]
  },
  {
   "cell_type": "code",
   "execution_count": 18,
   "id": "8ace99f4-cd6c-4118-b2d1-b5b71a824601",
   "metadata": {},
   "outputs": [
    {
     "name": "stdout",
     "output_type": "stream",
     "text": [
      "The no of apps of the category ART_AND_DESIGN are 61\n",
      "The no of apps of the category AUTO_AND_VEHICLES are 73\n",
      "The no of apps of the category BEAUTY are 42\n",
      "The no of apps of the category BOOKS_AND_REFERENCE are 178\n",
      "The no of apps of the category BUSINESS are 303\n",
      "The no of apps of the category COMICS are 58\n",
      "The no of apps of the category COMMUNICATION are 328\n",
      "The no of apps of the category DATING are 195\n",
      "The no of apps of the category EDUCATION are 155\n",
      "The no of apps of the category ENTERTAINMENT are 149\n",
      "The no of apps of the category EVENTS are 45\n",
      "The no of apps of the category FINANCE are 323\n",
      "The no of apps of the category FOOD_AND_DRINK are 109\n",
      "The no of apps of the category HEALTH_AND_FITNESS are 297\n",
      "The no of apps of the category HOUSE_AND_HOME are 76\n",
      "The no of apps of the category LIBRARIES_AND_DEMO are 64\n",
      "The no of apps of the category LIFESTYLE are 314\n",
      "The no of apps of the category GAME are 1097\n",
      "The no of apps of the category FAMILY are 1746\n",
      "The no of apps of the category MEDICAL are 350\n",
      "The no of apps of the category SOCIAL are 259\n",
      "The no of apps of the category SHOPPING are 238\n",
      "The no of apps of the category PHOTOGRAPHY are 318\n",
      "The no of apps of the category SPORTS are 319\n",
      "The no of apps of the category TRAVEL_AND_LOCAL are 226\n",
      "The no of apps of the category TOOLS are 733\n",
      "The no of apps of the category PERSONALIZATION are 312\n",
      "The no of apps of the category PRODUCTIVITY are 351\n",
      "The no of apps of the category PARENTING are 50\n",
      "The no of apps of the category WEATHER are 75\n",
      "The no of apps of the category VIDEO_PLAYERS are 160\n",
      "The no of apps of the category NEWS_AND_MAGAZINES are 233\n",
      "The no of apps of the category MAPS_AND_NAVIGATION are 124\n"
     ]
    }
   ],
   "source": [
    "lst=df['Category'].unique()\n",
    "categories_df=list(df['Category'])\n",
    "for x in lst:\n",
    "    c=0\n",
    "    for i in categories_df:\n",
    "        if i==x:\n",
    "            c+=1\n",
    "    print(f'The no of apps of the category {x} are {c}')\n"
   ]
  },
  {
   "cell_type": "code",
   "execution_count": 33,
   "id": "6e94c733-82ec-4dfe-992f-06c51da9ea93",
   "metadata": {},
   "outputs": [
    {
     "name": "stdout",
     "output_type": "stream",
     "text": [
      "{'ART_AND_DESIGN': 61, 'AUTO_AND_VEHICLES': 73, 'BEAUTY': 42, 'BOOKS_AND_REFERENCE': 178, 'BUSINESS': 303, 'COMICS': 58, 'COMMUNICATION': 328, 'DATING': 195, 'EDUCATION': 155, 'ENTERTAINMENT': 149, 'EVENTS': 45, 'FINANCE': 323, 'FOOD_AND_DRINK': 109, 'HEALTH_AND_FITNESS': 297, 'HOUSE_AND_HOME': 76, 'LIBRARIES_AND_DEMO': 64, 'LIFESTYLE': 314, 'GAME': 1097, 'FAMILY': 1746, 'MEDICAL': 350, 'SOCIAL': 259, 'SHOPPING': 238, 'PHOTOGRAPHY': 318, 'SPORTS': 319, 'TRAVEL_AND_LOCAL': 226, 'TOOLS': 733, 'PERSONALIZATION': 312, 'PRODUCTIVITY': 351, 'PARENTING': 50, 'WEATHER': 75, 'VIDEO_PLAYERS': 160, 'NEWS_AND_MAGAZINES': 233, 'MAPS_AND_NAVIGATION': 124}\n"
     ]
    }
   ],
   "source": [
    "categories={} # a categories dict to store the cats along with no of apps of the cats\n",
    "for x in df['Category'].unique():\n",
    "    c=0\n",
    "    for i in df['Category']:\n",
    "        if i==x:\n",
    "            c+=1\n",
    "    categories[x]=c\n",
    "print(categories)"
   ]
  },
  {
   "cell_type": "code",
   "execution_count": 34,
   "id": "fe9577e0-a689-4bf1-8dcd-a0c14fff6fad",
   "metadata": {},
   "outputs": [
    {
     "name": "stdout",
     "output_type": "stream",
     "text": [
      "ART_AND_DESIGN : 61\n",
      "AUTO_AND_VEHICLES : 73\n",
      "BEAUTY : 42\n",
      "BOOKS_AND_REFERENCE : 178\n",
      "BUSINESS : 303\n",
      "COMICS : 58\n",
      "COMMUNICATION : 328\n",
      "DATING : 195\n",
      "EDUCATION : 155\n",
      "ENTERTAINMENT : 149\n",
      "EVENTS : 45\n",
      "FINANCE : 323\n",
      "FOOD_AND_DRINK : 109\n",
      "HEALTH_AND_FITNESS : 297\n",
      "HOUSE_AND_HOME : 76\n",
      "LIBRARIES_AND_DEMO : 64\n",
      "LIFESTYLE : 314\n",
      "GAME : 1097\n",
      "FAMILY : 1746\n",
      "MEDICAL : 350\n",
      "SOCIAL : 259\n",
      "SHOPPING : 238\n",
      "PHOTOGRAPHY : 318\n",
      "SPORTS : 319\n",
      "TRAVEL_AND_LOCAL : 226\n",
      "TOOLS : 733\n",
      "PERSONALIZATION : 312\n",
      "PRODUCTIVITY : 351\n",
      "PARENTING : 50\n",
      "WEATHER : 75\n",
      "VIDEO_PLAYERS : 160\n",
      "NEWS_AND_MAGAZINES : 233\n",
      "MAPS_AND_NAVIGATION : 124\n"
     ]
    }
   ],
   "source": [
    "for i in df['Category'].unique():\n",
    "    print(i,':',categories[i])"
   ]
  },
  {
   "cell_type": "code",
   "execution_count": 32,
   "id": "b51c339f-81a0-4f86-9c31-14f4176d4419",
   "metadata": {},
   "outputs": [
    {
     "data": {
      "text/plain": [
       "['Free', 'Paid']"
      ]
     },
     "execution_count": 32,
     "metadata": {},
     "output_type": "execute_result"
    }
   ],
   "source": [
    "lst_1=list(df['Type'].unique())\n",
    "lst_1"
   ]
  },
  {
   "cell_type": "code",
   "execution_count": 26,
   "id": "f015ee90-59b3-4f83-ad76-0a52c3f40ea4",
   "metadata": {},
   "outputs": [
    {
     "name": "stdout",
     "output_type": "stream",
     "text": [
      "The no of apps of the type free are 8716\n",
      "The no of apps of the type paid are 645\n"
     ]
    }
   ],
   "source": [
    "c=0\n",
    "total=len(list(df['Type']))\n",
    "for x in list(df['Type']):\n",
    "    if x=='Free':\n",
    "        c+=1\n",
    "        \n",
    "print(f'The no of apps of the type free are {c}')\n",
    "print(f'The no of apps of the type paid are {total-c}')"
   ]
  },
  {
   "cell_type": "code",
   "execution_count": 29,
   "id": "ad593966-71d3-4e76-80fe-2d4b9aed37b2",
   "metadata": {},
   "outputs": [
    {
     "name": "stdout",
     "output_type": "stream",
     "text": [
      "The no of apps of the type Free are 8716\n",
      "The no of apps of the type Paid are 645\n"
     ]
    }
   ],
   "source": [
    "for x in df['Type'].unique():\n",
    "    c=0\n",
    "    for i in df['Type']:\n",
    "        if i==x:\n",
    "            c+=1\n",
    "    print(f'The no of apps of the type {x} are {c}')        "
   ]
  },
  {
   "cell_type": "code",
   "execution_count": 27,
   "id": "bb737f26-4a86-412f-92a0-bfabd306f011",
   "metadata": {},
   "outputs": [
    {
     "data": {
      "text/plain": [
       "array(['Everyone', 'Teen', 'Everyone 10+', 'Mature 17+',\n",
       "       'Adults only 18+', 'Unrated'], dtype=object)"
      ]
     },
     "execution_count": 27,
     "metadata": {},
     "output_type": "execute_result"
    }
   ],
   "source": [
    "df['Content Rating'].unique()"
   ]
  },
  {
   "cell_type": "code",
   "execution_count": 28,
   "id": "cf26bf92-4082-410b-a9f5-5db5fed199ba",
   "metadata": {},
   "outputs": [
    {
     "name": "stdout",
     "output_type": "stream",
     "text": [
      "The no of apps of the content rating Everyone are 7415\n",
      "The no of apps of the content rating Teen are 1084\n",
      "The no of apps of the content rating Everyone 10+ are 397\n",
      "The no of apps of the content rating Mature 17+ are 461\n",
      "The no of apps of the content rating Adults only 18+ are 3\n",
      "The no of apps of the content rating Unrated are 1\n"
     ]
    }
   ],
   "source": [
    "for x in df['Content Rating'].unique():\n",
    "    c=0\n",
    "    for i in df['Content Rating']:\n",
    "        if i==x:\n",
    "            c+=1\n",
    "    print(f'The no of apps of the content rating {x} are {c}')        \n",
    "        "
   ]
  },
  {
   "cell_type": "code",
   "execution_count": 35,
   "id": "f81f590b-3cd3-4b77-820c-61951291881a",
   "metadata": {},
   "outputs": [
    {
     "data": {
      "text/plain": [
       "count    9361.000000\n",
       "mean        4.191593\n",
       "std         0.515780\n",
       "min         1.000000\n",
       "25%         4.000000\n",
       "50%         4.300000\n",
       "75%         4.500000\n",
       "max         5.000000\n",
       "Name: Rating, dtype: float64"
      ]
     },
     "execution_count": 35,
     "metadata": {},
     "output_type": "execute_result"
    }
   ],
   "source": [
    "df['Rating'].describe()"
   ]
  },
  {
   "cell_type": "code",
   "execution_count": 36,
   "id": "461d8d2b-2a8a-45f8-9832-18cb5e249431",
   "metadata": {},
   "outputs": [
    {
     "data": {
      "text/plain": [
       "count     9361\n",
       "unique       2\n",
       "top       Free\n",
       "freq      8716\n",
       "Name: Type, dtype: object"
      ]
     },
     "execution_count": 36,
     "metadata": {},
     "output_type": "execute_result"
    }
   ],
   "source": [
    "df['Type'].describe()"
   ]
  },
  {
   "cell_type": "code",
   "execution_count": 37,
   "id": "a7744722-a328-4023-b6bf-94a8f7a170d4",
   "metadata": {},
   "outputs": [
    {
     "data": {
      "text/plain": [
       "count         9361\n",
       "unique           6\n",
       "top       Everyone\n",
       "freq          7415\n",
       "Name: Content Rating, dtype: object"
      ]
     },
     "execution_count": 37,
     "metadata": {},
     "output_type": "execute_result"
    }
   ],
   "source": [
    "df['Content Rating'].describe()"
   ]
  },
  {
   "cell_type": "code",
   "execution_count": 38,
   "id": "528223dd-a0e0-4805-8a99-9eebbbf94cf9",
   "metadata": {},
   "outputs": [
    {
     "data": {
      "text/plain": [
       "count       9361\n",
       "unique        33\n",
       "top       FAMILY\n",
       "freq        1746\n",
       "Name: Category, dtype: object"
      ]
     },
     "execution_count": 38,
     "metadata": {},
     "output_type": "execute_result"
    }
   ],
   "source": [
    "df['Category'].describe()"
   ]
  },
  {
   "cell_type": "code",
   "execution_count": null,
   "id": "76fb261b-20e9-4ec8-9a50-5fd90cc71a1d",
   "metadata": {},
   "outputs": [],
   "source": []
  }
 ],
 "metadata": {
  "kernelspec": {
   "display_name": "Python 3 (ipykernel)",
   "language": "python",
   "name": "python3"
  },
  "language_info": {
   "codemirror_mode": {
    "name": "ipython",
    "version": 3
   },
   "file_extension": ".py",
   "mimetype": "text/x-python",
   "name": "python",
   "nbconvert_exporter": "python",
   "pygments_lexer": "ipython3",
   "version": "3.11.7"
  }
 },
 "nbformat": 4,
 "nbformat_minor": 5
}
